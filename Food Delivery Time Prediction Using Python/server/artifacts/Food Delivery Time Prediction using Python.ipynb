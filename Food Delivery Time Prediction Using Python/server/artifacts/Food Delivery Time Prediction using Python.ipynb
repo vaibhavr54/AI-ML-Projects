{
 "cells": [
  {
   "cell_type": "code",
   "execution_count": 1,
   "id": "754d4c48-e40d-4c2b-bb02-d0ddd1264d6d",
   "metadata": {},
   "outputs": [
    {
     "name": "stdout",
     "output_type": "stream",
     "text": [
      "     ID Delivery_person_ID  Delivery_person_Age  Delivery_person_Ratings  \\\n",
      "0  4607     INDORES13DEL02                   37                      4.9   \n",
      "1  B379     BANGRES18DEL02                   34                      4.5   \n",
      "2  5D6D     BANGRES19DEL01                   23                      4.4   \n",
      "3  7A6A    COIMBRES13DEL02                   38                      4.7   \n",
      "4  70A2     CHENRES12DEL01                   32                      4.6   \n",
      "\n",
      "   Restaurant_latitude  Restaurant_longitude  Delivery_location_latitude  \\\n",
      "0            22.745049             75.892471                   22.765049   \n",
      "1            12.913041             77.683237                   13.043041   \n",
      "2            12.914264             77.678400                   12.924264   \n",
      "3            11.003669             76.976494                   11.053669   \n",
      "4            12.972793             80.249982                   13.012793   \n",
      "\n",
      "   Delivery_location_longitude Type_of_order Type_of_vehicle  Time_taken(min)  \n",
      "0                    75.912471        Snack      motorcycle                24  \n",
      "1                    77.813237        Snack         scooter                33  \n",
      "2                    77.688400       Drinks      motorcycle                26  \n",
      "3                    77.026494       Buffet      motorcycle                21  \n",
      "4                    80.289982        Snack         scooter                30  \n"
     ]
    }
   ],
   "source": [
    "import pandas as pd\n",
    "import numpy as np\n",
    "import plotly.express as px\n",
    "\n",
    "data = pd.read_csv(\"deliverytime.txt\")\n",
    "print(data.head())"
   ]
  },
  {
   "cell_type": "code",
   "execution_count": 2,
   "id": "995fb5c8-4085-4b6d-9357-300a7e6e64c3",
   "metadata": {},
   "outputs": [
    {
     "name": "stdout",
     "output_type": "stream",
     "text": [
      "<class 'pandas.core.frame.DataFrame'>\n",
      "RangeIndex: 45593 entries, 0 to 45592\n",
      "Data columns (total 11 columns):\n",
      " #   Column                       Non-Null Count  Dtype  \n",
      "---  ------                       --------------  -----  \n",
      " 0   ID                           45593 non-null  object \n",
      " 1   Delivery_person_ID           45593 non-null  object \n",
      " 2   Delivery_person_Age          45593 non-null  int64  \n",
      " 3   Delivery_person_Ratings      45593 non-null  float64\n",
      " 4   Restaurant_latitude          45593 non-null  float64\n",
      " 5   Restaurant_longitude         45593 non-null  float64\n",
      " 6   Delivery_location_latitude   45593 non-null  float64\n",
      " 7   Delivery_location_longitude  45593 non-null  float64\n",
      " 8   Type_of_order                45593 non-null  object \n",
      " 9   Type_of_vehicle              45593 non-null  object \n",
      " 10  Time_taken(min)              45593 non-null  int64  \n",
      "dtypes: float64(5), int64(2), object(4)\n",
      "memory usage: 3.8+ MB\n"
     ]
    }
   ],
   "source": [
    "data.info()"
   ]
  },
  {
   "cell_type": "code",
   "execution_count": 3,
   "id": "bbc7936c-1170-4f97-b938-a2584f7620b0",
   "metadata": {},
   "outputs": [
    {
     "data": {
      "text/plain": [
       "ID                             0\n",
       "Delivery_person_ID             0\n",
       "Delivery_person_Age            0\n",
       "Delivery_person_Ratings        0\n",
       "Restaurant_latitude            0\n",
       "Restaurant_longitude           0\n",
       "Delivery_location_latitude     0\n",
       "Delivery_location_longitude    0\n",
       "Type_of_order                  0\n",
       "Type_of_vehicle                0\n",
       "Time_taken(min)                0\n",
       "dtype: int64"
      ]
     },
     "execution_count": 3,
     "metadata": {},
     "output_type": "execute_result"
    }
   ],
   "source": [
    "data.isnull().sum()"
   ]
  },
  {
   "cell_type": "code",
   "execution_count": 4,
   "id": "2e3ee83c-3796-4517-aa90-4348502c6033",
   "metadata": {},
   "outputs": [],
   "source": [
    "# Set the earth's radius (in kilometers)\n",
    "R = 6371\n",
    "\n",
    "# Convert degrees to radians\n",
    "def deg_to_rad(degrees):\n",
    "    return degrees * (np.pi/180)\n",
    "\n",
    "# Function to calculate the distance between two points using the haversine formula\n",
    "def distcalculate(lat1, lon1, lat2, lon2):\n",
    "    d_lat = deg_to_rad(lat2-lat1)\n",
    "    d_lon = deg_to_rad(lon2-lon1)\n",
    "    a = np.sin(d_lat/2)**2 + np.cos(deg_to_rad(lat1)) * np.cos(deg_to_rad(lat2)) * np.sin(d_lon/2)**2\n",
    "    c = 2 * np.arctan2(np.sqrt(a), np.sqrt(1-a))\n",
    "    return R * c\n",
    "  \n",
    "# Calculate the distance between each pair of points\n",
    "data['distance'] = np.nan\n",
    "\n",
    "for i in range(len(data)):\n",
    "    data.loc[i, 'distance'] = distcalculate(data.loc[i, 'Restaurant_latitude'], \n",
    "                                        data.loc[i, 'Restaurant_longitude'], \n",
    "                                        data.loc[i, 'Delivery_location_latitude'], \n",
    "                                        data.loc[i, 'Delivery_location_longitude'])"
   ]
  },
  {
   "cell_type": "code",
   "execution_count": 5,
   "id": "7e90a091-5acf-4721-a2fa-5c8e32ec53e3",
   "metadata": {},
   "outputs": [
    {
     "name": "stdout",
     "output_type": "stream",
     "text": [
      "     ID Delivery_person_ID  Delivery_person_Age  Delivery_person_Ratings  \\\n",
      "0  4607     INDORES13DEL02                   37                      4.9   \n",
      "1  B379     BANGRES18DEL02                   34                      4.5   \n",
      "2  5D6D     BANGRES19DEL01                   23                      4.4   \n",
      "3  7A6A    COIMBRES13DEL02                   38                      4.7   \n",
      "4  70A2     CHENRES12DEL01                   32                      4.6   \n",
      "\n",
      "   Restaurant_latitude  Restaurant_longitude  Delivery_location_latitude  \\\n",
      "0            22.745049             75.892471                   22.765049   \n",
      "1            12.913041             77.683237                   13.043041   \n",
      "2            12.914264             77.678400                   12.924264   \n",
      "3            11.003669             76.976494                   11.053669   \n",
      "4            12.972793             80.249982                   13.012793   \n",
      "\n",
      "   Delivery_location_longitude Type_of_order Type_of_vehicle  Time_taken(min)  \\\n",
      "0                    75.912471        Snack      motorcycle                24   \n",
      "1                    77.813237        Snack         scooter                33   \n",
      "2                    77.688400       Drinks      motorcycle                26   \n",
      "3                    77.026494       Buffet      motorcycle                21   \n",
      "4                    80.289982        Snack         scooter                30   \n",
      "\n",
      "    distance  \n",
      "0   3.025149  \n",
      "1  20.183530  \n",
      "2   1.552758  \n",
      "3   7.790401  \n",
      "4   6.210138  \n"
     ]
    }
   ],
   "source": [
    "print(data.head())"
   ]
  },
  {
   "cell_type": "code",
   "execution_count": 6,
   "id": "684a6fd7-7468-4c5e-83c9-729cfe8582a8",
   "metadata": {},
   "outputs": [
    {
     "data": {
      "text/html": [
       "<iframe\n",
       "    scrolling=\"no\"\n",
       "    width=\"100%\"\n",
       "    height=\"545px\"\n",
       "    src=\"iframe_figures/figure_6.html\"\n",
       "    frameborder=\"0\"\n",
       "    allowfullscreen\n",
       "></iframe>\n"
      ]
     },
     "metadata": {},
     "output_type": "display_data"
    }
   ],
   "source": [
    "import plotly.io as pio\n",
    "import plotly.express as px\n",
    "\n",
    "# Set renderer to something Jupyter understands, like iframe\n",
    "pio.renderers.default = 'iframe'  # Alternatives: 'notebook', 'notebook_connected', 'svg'\n",
    "\n",
    "# Your existing code\n",
    "figure = px.scatter(data_frame=data, \n",
    "                    x=\"distance\", \n",
    "                    y=\"Time_taken(min)\", \n",
    "                    size=\"Time_taken(min)\", \n",
    "                    trendline=\"ols\", )\n",
    "figure.show()"
   ]
  },
  {
   "cell_type": "markdown",
   "id": "ba1af85c-fc46-4816-a3f9-4cfbf0098182",
   "metadata": {},
   "source": [
    "##### There is a consistent relationship between the time taken and the distance travelled to deliver the food. It means that most delivery partners deliver food within 25-30 minutes, regardless of distance."
   ]
  },
  {
   "cell_type": "code",
   "execution_count": 7,
   "id": "36ee1316-18fc-402a-b3dc-d94f70ff2d06",
   "metadata": {},
   "outputs": [
    {
     "data": {
      "text/html": [
       "<iframe\n",
       "    scrolling=\"no\"\n",
       "    width=\"100%\"\n",
       "    height=\"545px\"\n",
       "    src=\"iframe_figures/figure_7.html\"\n",
       "    frameborder=\"0\"\n",
       "    allowfullscreen\n",
       "></iframe>\n"
      ]
     },
     "metadata": {},
     "output_type": "display_data"
    }
   ],
   "source": [
    "pio.renderers.default = 'iframe'\n",
    "figure = px.scatter(data_frame = data, \n",
    "                    x=\"Delivery_person_Age\",\n",
    "                    y=\"Time_taken(min)\", \n",
    "                    size=\"Time_taken(min)\", \n",
    "                    color = \"distance\",\n",
    "                    trendline=\"ols\", \n",
    "                    title = \"Relationship Between Time Taken and Age\")\n",
    "figure.show()"
   ]
  },
  {
   "attachments": {},
   "cell_type": "markdown",
   "id": "24c0f1bd-41d1-4bdb-a839-4a085f3717ee",
   "metadata": {},
   "source": [
    "##### The plot suggests that older delivery persons tend to take slightly longer times for deliveries, but this trend is not very strong.\n",
    "##### Longer deliveries (in terms of both time and distance) are visible at the extremes of age, but most deliveries seem to happen within a concentrated age and time range."
   ]
  },
  {
   "cell_type": "code",
   "execution_count": 8,
   "id": "e880aa52-8922-48c4-9a26-df929bf7fb14",
   "metadata": {},
   "outputs": [
    {
     "data": {
      "text/html": [
       "<iframe\n",
       "    scrolling=\"no\"\n",
       "    width=\"100%\"\n",
       "    height=\"545px\"\n",
       "    src=\"iframe_figures/figure_8.html\"\n",
       "    frameborder=\"0\"\n",
       "    allowfullscreen\n",
       "></iframe>\n"
      ]
     },
     "metadata": {},
     "output_type": "display_data"
    }
   ],
   "source": [
    "pio.renderers.default = 'iframe'\n",
    "figure = px.scatter(data_frame = data, \n",
    "                    x=\"Delivery_person_Ratings\",\n",
    "                    y=\"Time_taken(min)\", \n",
    "                    size=\"Time_taken(min)\", \n",
    "                    color = \"distance\",\n",
    "                    trendline=\"ols\", \n",
    "                    title = \"Relationship Between Time Taken and Ratings\")\n",
    "figure.show()"
   ]
  },
  {
   "cell_type": "markdown",
   "id": "476955cb-3d58-4152-a607-35c162e5887b",
   "metadata": {},
   "source": [
    "##### There is an inverse linear relationship between the time taken to deliver the food and the ratings of the delivery partner. It means delivery partners with higher ratings take less time to deliver the food compared to partners with low ratings."
   ]
  },
  {
   "cell_type": "code",
   "execution_count": 9,
   "id": "a91e73e8-b21a-4524-86c4-22a1a56bae3c",
   "metadata": {},
   "outputs": [
    {
     "data": {
      "text/html": [
       "<iframe\n",
       "    scrolling=\"no\"\n",
       "    width=\"100%\"\n",
       "    height=\"545px\"\n",
       "    src=\"iframe_figures/figure_9.html\"\n",
       "    frameborder=\"0\"\n",
       "    allowfullscreen\n",
       "></iframe>\n"
      ]
     },
     "metadata": {},
     "output_type": "display_data"
    }
   ],
   "source": [
    "pio.renderers.default = 'iframe'\n",
    "fig = px.box(data, \n",
    "             x=\"Type_of_vehicle\",\n",
    "             y=\"Time_taken(min)\", \n",
    "             color=\"Type_of_order\")\n",
    "fig.show()"
   ]
  },
  {
   "cell_type": "markdown",
   "id": "8c56651f-e6ec-4750-b01b-455d89a0c19f",
   "metadata": {},
   "source": [
    "##### So there is not much difference between the time taken by delivery partners depending on the vehicle they are driving and the type of food they are delivering."
   ]
  },
  {
   "cell_type": "code",
   "execution_count": 10,
   "id": "8e6bfbd0-76d7-40f0-9002-e0d1ab68619b",
   "metadata": {},
   "outputs": [
    {
     "name": "stderr",
     "output_type": "stream",
     "text": [
      "C:\\Users\\vaibh\\AppData\\Local\\Programs\\Python\\Python312\\Lib\\site-packages\\keras\\src\\layers\\rnn\\rnn.py:200: UserWarning:\n",
      "\n",
      "Do not pass an `input_shape`/`input_dim` argument to a layer. When using Sequential models, prefer using an `Input(shape)` object as the first layer in the model instead.\n",
      "\n"
     ]
    },
    {
     "data": {
      "text/html": [
       "<pre style=\"white-space:pre;overflow-x:auto;line-height:normal;font-family:Menlo,'DejaVu Sans Mono',consolas,'Courier New',monospace\"><span style=\"font-weight: bold\">Model: \"sequential\"</span>\n",
       "</pre>\n"
      ],
      "text/plain": [
       "\u001b[1mModel: \"sequential\"\u001b[0m\n"
      ]
     },
     "metadata": {},
     "output_type": "display_data"
    },
    {
     "data": {
      "text/html": [
       "<pre style=\"white-space:pre;overflow-x:auto;line-height:normal;font-family:Menlo,'DejaVu Sans Mono',consolas,'Courier New',monospace\">┏━━━━━━━━━━━━━━━━━━━━━━━━━━━━━━━━━━━━━━┳━━━━━━━━━━━━━━━━━━━━━━━━━━━━━┳━━━━━━━━━━━━━━━━━┓\n",
       "┃<span style=\"font-weight: bold\"> Layer (type)                         </span>┃<span style=\"font-weight: bold\"> Output Shape                </span>┃<span style=\"font-weight: bold\">         Param # </span>┃\n",
       "┡━━━━━━━━━━━━━━━━━━━━━━━━━━━━━━━━━━━━━━╇━━━━━━━━━━━━━━━━━━━━━━━━━━━━━╇━━━━━━━━━━━━━━━━━┩\n",
       "│ lstm (<span style=\"color: #0087ff; text-decoration-color: #0087ff\">LSTM</span>)                          │ (<span style=\"color: #00d7ff; text-decoration-color: #00d7ff\">None</span>, <span style=\"color: #00af00; text-decoration-color: #00af00\">3</span>, <span style=\"color: #00af00; text-decoration-color: #00af00\">128</span>)              │          <span style=\"color: #00af00; text-decoration-color: #00af00\">66,560</span> │\n",
       "├──────────────────────────────────────┼─────────────────────────────┼─────────────────┤\n",
       "│ lstm_1 (<span style=\"color: #0087ff; text-decoration-color: #0087ff\">LSTM</span>)                        │ (<span style=\"color: #00d7ff; text-decoration-color: #00d7ff\">None</span>, <span style=\"color: #00af00; text-decoration-color: #00af00\">64</span>)                  │          <span style=\"color: #00af00; text-decoration-color: #00af00\">49,408</span> │\n",
       "├──────────────────────────────────────┼─────────────────────────────┼─────────────────┤\n",
       "│ dense (<span style=\"color: #0087ff; text-decoration-color: #0087ff\">Dense</span>)                        │ (<span style=\"color: #00d7ff; text-decoration-color: #00d7ff\">None</span>, <span style=\"color: #00af00; text-decoration-color: #00af00\">25</span>)                  │           <span style=\"color: #00af00; text-decoration-color: #00af00\">1,625</span> │\n",
       "├──────────────────────────────────────┼─────────────────────────────┼─────────────────┤\n",
       "│ dense_1 (<span style=\"color: #0087ff; text-decoration-color: #0087ff\">Dense</span>)                      │ (<span style=\"color: #00d7ff; text-decoration-color: #00d7ff\">None</span>, <span style=\"color: #00af00; text-decoration-color: #00af00\">1</span>)                   │              <span style=\"color: #00af00; text-decoration-color: #00af00\">26</span> │\n",
       "└──────────────────────────────────────┴─────────────────────────────┴─────────────────┘\n",
       "</pre>\n"
      ],
      "text/plain": [
       "┏━━━━━━━━━━━━━━━━━━━━━━━━━━━━━━━━━━━━━━┳━━━━━━━━━━━━━━━━━━━━━━━━━━━━━┳━━━━━━━━━━━━━━━━━┓\n",
       "┃\u001b[1m \u001b[0m\u001b[1mLayer (type)                        \u001b[0m\u001b[1m \u001b[0m┃\u001b[1m \u001b[0m\u001b[1mOutput Shape               \u001b[0m\u001b[1m \u001b[0m┃\u001b[1m \u001b[0m\u001b[1m        Param #\u001b[0m\u001b[1m \u001b[0m┃\n",
       "┡━━━━━━━━━━━━━━━━━━━━━━━━━━━━━━━━━━━━━━╇━━━━━━━━━━━━━━━━━━━━━━━━━━━━━╇━━━━━━━━━━━━━━━━━┩\n",
       "│ lstm (\u001b[38;5;33mLSTM\u001b[0m)                          │ (\u001b[38;5;45mNone\u001b[0m, \u001b[38;5;34m3\u001b[0m, \u001b[38;5;34m128\u001b[0m)              │          \u001b[38;5;34m66,560\u001b[0m │\n",
       "├──────────────────────────────────────┼─────────────────────────────┼─────────────────┤\n",
       "│ lstm_1 (\u001b[38;5;33mLSTM\u001b[0m)                        │ (\u001b[38;5;45mNone\u001b[0m, \u001b[38;5;34m64\u001b[0m)                  │          \u001b[38;5;34m49,408\u001b[0m │\n",
       "├──────────────────────────────────────┼─────────────────────────────┼─────────────────┤\n",
       "│ dense (\u001b[38;5;33mDense\u001b[0m)                        │ (\u001b[38;5;45mNone\u001b[0m, \u001b[38;5;34m25\u001b[0m)                  │           \u001b[38;5;34m1,625\u001b[0m │\n",
       "├──────────────────────────────────────┼─────────────────────────────┼─────────────────┤\n",
       "│ dense_1 (\u001b[38;5;33mDense\u001b[0m)                      │ (\u001b[38;5;45mNone\u001b[0m, \u001b[38;5;34m1\u001b[0m)                   │              \u001b[38;5;34m26\u001b[0m │\n",
       "└──────────────────────────────────────┴─────────────────────────────┴─────────────────┘\n"
      ]
     },
     "metadata": {},
     "output_type": "display_data"
    },
    {
     "data": {
      "text/html": [
       "<pre style=\"white-space:pre;overflow-x:auto;line-height:normal;font-family:Menlo,'DejaVu Sans Mono',consolas,'Courier New',monospace\"><span style=\"font-weight: bold\"> Total params: </span><span style=\"color: #00af00; text-decoration-color: #00af00\">117,619</span> (459.45 KB)\n",
       "</pre>\n"
      ],
      "text/plain": [
       "\u001b[1m Total params: \u001b[0m\u001b[38;5;34m117,619\u001b[0m (459.45 KB)\n"
      ]
     },
     "metadata": {},
     "output_type": "display_data"
    },
    {
     "data": {
      "text/html": [
       "<pre style=\"white-space:pre;overflow-x:auto;line-height:normal;font-family:Menlo,'DejaVu Sans Mono',consolas,'Courier New',monospace\"><span style=\"font-weight: bold\"> Trainable params: </span><span style=\"color: #00af00; text-decoration-color: #00af00\">117,619</span> (459.45 KB)\n",
       "</pre>\n"
      ],
      "text/plain": [
       "\u001b[1m Trainable params: \u001b[0m\u001b[38;5;34m117,619\u001b[0m (459.45 KB)\n"
      ]
     },
     "metadata": {},
     "output_type": "display_data"
    },
    {
     "data": {
      "text/html": [
       "<pre style=\"white-space:pre;overflow-x:auto;line-height:normal;font-family:Menlo,'DejaVu Sans Mono',consolas,'Courier New',monospace\"><span style=\"font-weight: bold\"> Non-trainable params: </span><span style=\"color: #00af00; text-decoration-color: #00af00\">0</span> (0.00 B)\n",
       "</pre>\n"
      ],
      "text/plain": [
       "\u001b[1m Non-trainable params: \u001b[0m\u001b[38;5;34m0\u001b[0m (0.00 B)\n"
      ]
     },
     "metadata": {},
     "output_type": "display_data"
    }
   ],
   "source": [
    "from sklearn.model_selection import train_test_split\n",
    "x = np.array(data[[\"Delivery_person_Age\", \n",
    "                   \"Delivery_person_Ratings\", \n",
    "                   \"distance\"]])\n",
    "y = np.array(data[[\"Time_taken(min)\"]])\n",
    "xtrain, xtest, ytrain, ytest = train_test_split(x, y, \n",
    "                                                test_size=0.10, \n",
    "                                                random_state=42)\n",
    "\n",
    "# creating the LSTM neural network model\n",
    "from keras.models import Sequential\n",
    "from keras.layers import Dense, LSTM\n",
    "model = Sequential()\n",
    "model.add(LSTM(128, return_sequences=True, input_shape= (xtrain.shape[1], 1)))\n",
    "model.add(LSTM(64, return_sequences=False))\n",
    "model.add(Dense(25))\n",
    "model.add(Dense(1))\n",
    "model.summary()"
   ]
  },
  {
   "cell_type": "code",
   "execution_count": 11,
   "id": "fd1bbb3c-2802-4c9d-b2b3-e9052b0ecb0a",
   "metadata": {},
   "outputs": [
    {
     "name": "stdout",
     "output_type": "stream",
     "text": [
      "Epoch 1/9\n",
      "\u001b[1m41033/41033\u001b[0m \u001b[32m━━━━━━━━━━━━━━━━━━━━\u001b[0m\u001b[37m\u001b[0m \u001b[1m187s\u001b[0m 4ms/step - loss: 75.9063\n",
      "Epoch 2/9\n",
      "\u001b[1m41033/41033\u001b[0m \u001b[32m━━━━━━━━━━━━━━━━━━━━\u001b[0m\u001b[37m\u001b[0m \u001b[1m181s\u001b[0m 4ms/step - loss: 65.2515\n",
      "Epoch 3/9\n",
      "\u001b[1m41033/41033\u001b[0m \u001b[32m━━━━━━━━━━━━━━━━━━━━\u001b[0m\u001b[37m\u001b[0m \u001b[1m182s\u001b[0m 4ms/step - loss: 60.9761\n",
      "Epoch 4/9\n",
      "\u001b[1m41033/41033\u001b[0m \u001b[32m━━━━━━━━━━━━━━━━━━━━\u001b[0m\u001b[37m\u001b[0m \u001b[1m193s\u001b[0m 5ms/step - loss: 60.3793\n",
      "Epoch 5/9\n",
      "\u001b[1m41033/41033\u001b[0m \u001b[32m━━━━━━━━━━━━━━━━━━━━\u001b[0m\u001b[37m\u001b[0m \u001b[1m184s\u001b[0m 4ms/step - loss: 59.4523\n",
      "Epoch 6/9\n",
      "\u001b[1m41033/41033\u001b[0m \u001b[32m━━━━━━━━━━━━━━━━━━━━\u001b[0m\u001b[37m\u001b[0m \u001b[1m183s\u001b[0m 4ms/step - loss: 59.3651\n",
      "Epoch 7/9\n",
      "\u001b[1m41033/41033\u001b[0m \u001b[32m━━━━━━━━━━━━━━━━━━━━\u001b[0m\u001b[37m\u001b[0m \u001b[1m183s\u001b[0m 4ms/step - loss: 58.8923\n",
      "Epoch 8/9\n",
      "\u001b[1m41033/41033\u001b[0m \u001b[32m━━━━━━━━━━━━━━━━━━━━\u001b[0m\u001b[37m\u001b[0m \u001b[1m200s\u001b[0m 4ms/step - loss: 59.3677\n",
      "Epoch 9/9\n",
      "\u001b[1m41033/41033\u001b[0m \u001b[32m━━━━━━━━━━━━━━━━━━━━\u001b[0m\u001b[37m\u001b[0m \u001b[1m204s\u001b[0m 4ms/step - loss: 59.3755\n"
     ]
    },
    {
     "data": {
      "text/plain": [
       "<keras.src.callbacks.history.History at 0x195c105b080>"
      ]
     },
     "execution_count": 11,
     "metadata": {},
     "output_type": "execute_result"
    }
   ],
   "source": [
    "# training the model\n",
    "model.compile(optimizer='adam', loss='mean_squared_error')\n",
    "model.fit(xtrain, ytrain, batch_size=1, epochs=9)"
   ]
  },
  {
   "cell_type": "code",
   "execution_count": 12,
   "id": "4143eac3-6ba5-4444-b569-c9fc87958d47",
   "metadata": {},
   "outputs": [
    {
     "name": "stdout",
     "output_type": "stream",
     "text": [
      "Food Delivery Time Prediction\n"
     ]
    },
    {
     "name": "stdin",
     "output_type": "stream",
     "text": [
      "Age of Delivery Partner:  25\n",
      "Ratings of Previous Deliveries:  4.5\n",
      "Total Distance (in meters):  5000\n"
     ]
    },
    {
     "name": "stdout",
     "output_type": "stream",
     "text": [
      "\u001b[1m1/1\u001b[0m \u001b[32m━━━━━━━━━━━━━━━━━━━━\u001b[0m\u001b[37m\u001b[0m \u001b[1m0s\u001b[0m 416ms/step\n",
      "Predicted Delivery Time in Minutes =  [[24.243114]]\n"
     ]
    }
   ],
   "source": [
    "print(\"Food Delivery Time Prediction\")\n",
    "a = int(input(\"Age of Delivery Partner: \"))\n",
    "b = float(input(\"Ratings of Previous Deliveries: \"))\n",
    "c = int(input(\"Total Distance (in meters): \"))\n",
    "\n",
    "features = np.array([[a, b, c]])\n",
    "print(\"Predicted Delivery Time in Minutes = \", model.predict(features))"
   ]
  },
  {
   "cell_type": "code",
   "execution_count": 13,
   "id": "a8d3e548-36d5-4ec0-95c9-37d2ac149fac",
   "metadata": {},
   "outputs": [
    {
     "name": "stdout",
     "output_type": "stream",
     "text": [
      "Model saved successfully at: artifacts\\food_delivery_model.pkl\n"
     ]
    }
   ],
   "source": [
    "import pickle\n",
    "import os\n",
    "\n",
    "# Define the directory to save the model\n",
    "artifacts_dir = \"artifacts\"\n",
    "os.makedirs(artifacts_dir, exist_ok=True)  # Create the directory if it doesn't exist\n",
    "\n",
    "# Save the trained model\n",
    "model_path = os.path.join(artifacts_dir, \"food_delivery_model.pkl\")\n",
    "with open(model_path, \"wb\") as f:\n",
    "    pickle.dump(model, f)\n",
    "\n",
    "print(f\"Model saved successfully at: {model_path}\")"
   ]
  },
  {
   "cell_type": "code",
   "execution_count": null,
   "id": "a759d707-272b-467e-9583-2bae716ff217",
   "metadata": {},
   "outputs": [],
   "source": []
  }
 ],
 "metadata": {
  "kernelspec": {
   "display_name": "Python 3 (ipykernel)",
   "language": "python",
   "name": "python3"
  },
  "language_info": {
   "codemirror_mode": {
    "name": "ipython",
    "version": 3
   },
   "file_extension": ".py",
   "mimetype": "text/x-python",
   "name": "python",
   "nbconvert_exporter": "python",
   "pygments_lexer": "ipython3",
   "version": "3.12.0"
  }
 },
 "nbformat": 4,
 "nbformat_minor": 5
}
